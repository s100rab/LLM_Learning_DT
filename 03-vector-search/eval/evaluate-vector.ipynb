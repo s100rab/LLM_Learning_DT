{
 "cells": [
  {
   "cell_type": "code",
   "execution_count": 1,
   "id": "8456b5b6-185b-440b-ab98-1822aac2fe4f",
   "metadata": {},
   "outputs": [],
   "source": [
    "import json\n",
    "\n",
    "with open('documents-with-ids.json', 'rt') as f_in:\n",
    "    documents = json.load(f_in)"
   ]
  },
  {
   "cell_type": "code",
   "execution_count": 2,
   "id": "5833e987-21f5-4788-8609-d32410bc7b10",
   "metadata": {},
   "outputs": [
    {
     "name": "stderr",
     "output_type": "stream",
     "text": [
      "/home/codespace/.python/current/lib/python3.10/site-packages/sentence_transformers/cross_encoder/CrossEncoder.py:11: TqdmWarning: IProgress not found. Please update jupyter and ipywidgets. See https://ipywidgets.readthedocs.io/en/stable/user_install.html\n",
      "  from tqdm.autonotebook import tqdm, trange\n"
     ]
    }
   ],
   "source": [
    "from sentence_transformers import SentenceTransformer"
   ]
  },
  {
   "cell_type": "code",
   "execution_count": 3,
   "id": "3e482cd0-0202-4a89-854d-90b50c75e520",
   "metadata": {},
   "outputs": [],
   "source": [
    "model_name = 'multi-qa-MiniLM-L6-cos-v1'\n",
    "model = SentenceTransformer(model_name)"
   ]
  },
  {
   "cell_type": "code",
   "execution_count": 4,
   "id": "341b331f-e3aa-41b7-91a2-b42cd3a57c2e",
   "metadata": {},
   "outputs": [],
   "source": [
    "v = model.encode('I just discovered the course. Can I still join?')"
   ]
  },
  {
   "cell_type": "code",
   "execution_count": 5,
   "id": "5783a592-5d76-44ee-89a7-05615ef966bf",
   "metadata": {},
   "outputs": [
    {
     "data": {
      "text/plain": [
       "384"
      ]
     },
     "execution_count": 5,
     "metadata": {},
     "output_type": "execute_result"
    }
   ],
   "source": [
    "len(v)"
   ]
  },
  {
   "cell_type": "code",
   "execution_count": 7,
   "id": "4996285f",
   "metadata": {},
   "outputs": [
    {
     "data": {
      "text/plain": [
       "1.0"
      ]
     },
     "execution_count": 7,
     "metadata": {},
     "output_type": "execute_result"
    }
   ],
   "source": [
    "v.dot(v)"
   ]
  },
  {
   "cell_type": "code",
   "execution_count": 9,
   "id": "620ed5a1-cc06-40a3-8627-891aed525cba",
   "metadata": {},
   "outputs": [
    {
     "data": {
      "text/plain": [
       "ObjectApiResponse({'acknowledged': True, 'shards_acknowledged': True, 'index': 'course-questions'})"
      ]
     },
     "execution_count": 9,
     "metadata": {},
     "output_type": "execute_result"
    }
   ],
   "source": [
    "from elasticsearch import Elasticsearch\n",
    "\n",
    "es_client = Elasticsearch('http://localhost:9200') \n",
    "\n",
    "index_settings = {\n",
    "    \"settings\": {\n",
    "        \"number_of_shards\": 1,\n",
    "        \"number_of_replicas\": 0\n",
    "    },\n",
    "    \"mappings\": {\n",
    "        \"properties\": {\n",
    "            \"text\": {\"type\": \"text\"},\n",
    "            \"section\": {\"type\": \"text\"},\n",
    "            \"question\": {\"type\": \"text\"},\n",
    "            \"course\": {\"type\": \"keyword\"},\n",
    "            \"id\": {\"type\": \"keyword\"},\n",
    "            \"question_vector\": {\n",
    "                \"type\": \"dense_vector\",\n",
    "                \"dims\": 384,\n",
    "                \"index\": True,\n",
    "                \"similarity\": \"cosine\"\n",
    "            },\n",
    "            \"text_vector\": {\n",
    "                \"type\": \"dense_vector\",\n",
    "                \"dims\": 384,\n",
    "                \"index\": True,\n",
    "                \"similarity\": \"cosine\"\n",
    "            },\n",
    "            \"question_text_vector\": {\n",
    "                \"type\": \"dense_vector\",\n",
    "                \"dims\": 384,\n",
    "                \"index\": True,\n",
    "                \"similarity\": \"cosine\"\n",
    "            },\n",
    "        }\n",
    "    }\n",
    "}\n",
    "\n",
    "index_name = \"course-questions\"\n",
    "\n",
    "es_client.indices.delete(index=index_name, ignore_unavailable=True)\n",
    "es_client.indices.create(index=index_name, body=index_settings)"
   ]
  },
  {
   "cell_type": "code",
   "execution_count": 10,
   "id": "91721a90-96d6-4ef9-8baf-a3d42c4b03e1",
   "metadata": {},
   "outputs": [],
   "source": [
    "from tqdm.auto import tqdm"
   ]
  },
  {
   "cell_type": "code",
   "execution_count": 11,
   "id": "ad8a4ba1-35d8-4650-9267-86afabef7386",
   "metadata": {},
   "outputs": [
    {
     "name": "stderr",
     "output_type": "stream",
     "text": [
      "100%|██████████| 948/948 [01:56<00:00,  8.11it/s]\n"
     ]
    }
   ],
   "source": [
    "for doc in tqdm(documents):\n",
    "    question = doc['question']\n",
    "    text = doc['text']\n",
    "    qt = question + ' ' + text\n",
    "\n",
    "    doc['question_vector'] = model.encode(question)\n",
    "    doc['text_vector'] = model.encode(text)\n",
    "    doc['question_text_vector'] = model.encode(qt)"
   ]
  },
  {
   "cell_type": "code",
   "execution_count": 12,
   "id": "d5b27abe-a0c2-426c-9780-3b1c0534dbe6",
   "metadata": {},
   "outputs": [
    {
     "name": "stderr",
     "output_type": "stream",
     "text": [
      "100%|██████████| 948/948 [00:21<00:00, 44.57it/s]\n"
     ]
    }
   ],
   "source": [
    "for doc in tqdm(documents):\n",
    "    es_client.index(index=index_name, document=doc)"
   ]
  },
  {
   "cell_type": "code",
   "execution_count": 13,
   "id": "82a78984-1440-4195-9513-106109013fce",
   "metadata": {},
   "outputs": [],
   "source": [
    "query = 'I just discovered the course. Can I still join it?'"
   ]
  },
  {
   "cell_type": "code",
   "execution_count": 14,
   "id": "8a5ac3e8-8d75-48f6-8d3c-0b25d227d1f2",
   "metadata": {},
   "outputs": [],
   "source": [
    "v_q = model.encode(query)"
   ]
  },
  {
   "cell_type": "code",
   "execution_count": 15,
   "id": "1889c3c7",
   "metadata": {},
   "outputs": [
    {
     "data": {
      "text/plain": [
       "array([ 1.76149234e-02, -4.11324874e-02, -1.86437108e-02,  3.38308746e-03,\n",
       "        3.42942253e-02,  4.63595130e-02, -7.58891627e-02, -6.14615604e-02,\n",
       "       -6.74188137e-02, -2.43898910e-02, -1.31267095e-02,  6.47083074e-02,\n",
       "        2.51724236e-02,  6.61560968e-02,  5.74242100e-02, -5.76662309e-02,\n",
       "       -1.01838619e-01, -3.80568802e-02,  8.85191094e-03, -2.22330331e-03,\n",
       "       -1.45974591e-01,  4.60105762e-02, -3.27742398e-02,  4.28988673e-02,\n",
       "        4.11894433e-02, -4.12427485e-02,  3.89968306e-02, -9.35932994e-03,\n",
       "        1.78947728e-02, -3.18374299e-02, -2.50403886e-03,  9.68546048e-03,\n",
       "        1.55836577e-02,  4.38631177e-02,  3.93182784e-03,  2.77109090e-02,\n",
       "        2.76588299e-03, -5.23474589e-02,  6.36804523e-03,  1.12894475e-02,\n",
       "       -1.66701302e-02, -4.24622819e-02,  4.98241838e-03,  3.54115590e-02,\n",
       "        4.26929221e-02,  6.29352704e-02, -1.76142342e-02, -7.38580376e-02,\n",
       "        3.98312099e-02,  8.52345526e-02,  1.04327770e-02, -1.14520557e-01,\n",
       "       -1.59268230e-02, -2.40066443e-02, -2.19631530e-02,  1.60266683e-01,\n",
       "       -1.23912040e-02,  2.13632099e-02, -1.03165589e-01,  6.88231513e-02,\n",
       "        1.05400039e-02, -1.60187874e-02, -4.71950918e-02,  9.30813327e-03,\n",
       "       -4.04344313e-02, -2.46043992e-03, -4.32146713e-02,  6.72250092e-02,\n",
       "        6.31208867e-02,  1.84811186e-02,  2.06569508e-02, -1.24418987e-02,\n",
       "        3.36882360e-02,  4.19928841e-02,  8.59920755e-02,  4.33367267e-02,\n",
       "        7.37982802e-03, -1.82137999e-03,  9.90376770e-02, -1.81587320e-02,\n",
       "       -2.57330574e-02,  8.45700726e-02, -8.07821844e-03,  1.59591045e-02,\n",
       "        2.18754057e-02, -4.00446244e-02,  2.04030108e-02,  1.58164650e-02,\n",
       "        6.35885075e-02, -2.95165200e-02,  1.48537541e-02, -4.49331440e-02,\n",
       "       -2.48858891e-02, -1.64941028e-02, -1.10271983e-02,  3.81365195e-02,\n",
       "        1.52464835e-02, -8.64762999e-03,  2.23711529e-03,  4.93728854e-02,\n",
       "       -6.91457316e-02,  4.93515320e-02, -3.75905633e-02, -3.43107171e-02,\n",
       "       -7.76832104e-02,  1.77104995e-02,  5.68748154e-02,  7.84317851e-02,\n",
       "        1.29469737e-01, -1.83993950e-02,  3.50294523e-02, -3.48359114e-03,\n",
       "        5.12880087e-02, -8.69035069e-03, -1.16803814e-02,  6.01999462e-02,\n",
       "       -5.86449280e-02,  6.00887276e-02,  4.47552279e-02, -3.93825443e-03,\n",
       "       -2.17082333e-02,  1.48929376e-02,  6.43521473e-02,  8.04061349e-03,\n",
       "       -5.46175689e-02, -1.08109549e-01, -2.61080749e-02,  1.56401432e-30,\n",
       "       -3.46487761e-02, -6.30143378e-03,  1.50328539e-02, -5.25706075e-02,\n",
       "        3.19315866e-02, -5.97957671e-02,  2.58482713e-02,  1.79113764e-02,\n",
       "       -7.00699612e-02, -7.45144160e-03, -6.44534081e-03,  1.03323385e-02,\n",
       "        2.10827775e-02, -4.54013348e-02,  4.57802229e-02, -4.06413004e-02,\n",
       "        1.45849818e-03, -3.01839281e-02,  1.59767531e-02, -3.21981795e-02,\n",
       "        6.92512915e-02, -1.32546593e-02,  5.88739617e-03, -3.33510153e-02,\n",
       "       -2.55463645e-03,  3.52398232e-02,  1.39414994e-02,  2.71805953e-02,\n",
       "        9.11200047e-02,  4.40750346e-02,  3.40240188e-02,  2.05859654e-02,\n",
       "       -1.94128007e-01, -1.05270240e-02,  2.79501360e-02,  1.13796573e-02,\n",
       "        7.14758411e-02,  1.42372698e-02,  5.30693941e-02, -4.09793556e-02,\n",
       "       -2.37918738e-02, -2.78444421e-02,  5.02104498e-02, -5.74938916e-02,\n",
       "       -1.33208688e-02,  1.67197511e-02,  7.96619505e-02, -6.84936270e-02,\n",
       "        4.09558527e-02,  1.65203249e-03, -6.81084394e-02, -7.58855939e-02,\n",
       "        3.33095938e-02, -7.64634758e-02, -1.24543877e-02, -8.45249649e-03,\n",
       "       -1.50713576e-02,  9.26374793e-02, -8.63968022e-03, -3.16604190e-02,\n",
       "        3.09322216e-02,  1.31632108e-02, -7.09917396e-02,  1.31081089e-01,\n",
       "       -1.20116346e-01,  4.36427407e-02, -6.98487312e-02, -1.02385543e-01,\n",
       "        6.63748831e-02, -5.18893190e-02, -1.04578413e-01, -8.17592721e-03,\n",
       "       -1.12951502e-01, -4.07670438e-03,  1.21986913e-02, -1.37233762e-02,\n",
       "       -3.60988863e-02,  1.71162665e-03,  1.35979578e-01, -2.92239618e-02,\n",
       "        8.13322421e-03, -1.75228901e-02, -2.27987883e-03,  3.01440675e-02,\n",
       "        4.60379478e-03,  2.25859657e-02,  6.88870177e-02, -9.70220286e-03,\n",
       "        3.09251584e-02,  4.98778224e-02, -9.31771100e-02, -1.91386987e-03,\n",
       "       -2.85508707e-02,  6.25175759e-02,  8.56966376e-02, -2.10092854e-33,\n",
       "        3.40485498e-02, -1.88849661e-02,  3.00582107e-02, -5.93010224e-02,\n",
       "        1.81743633e-02, -2.27428675e-02,  6.90349862e-02,  1.31517521e-03,\n",
       "       -9.18575749e-03,  4.34829742e-02,  4.71736789e-02,  4.87951562e-03,\n",
       "       -1.57985035e-02,  4.59825844e-02,  2.52230614e-02, -1.02190832e-02,\n",
       "       -9.14971679e-02,  6.47188304e-03, -5.27852997e-02, -4.55059344e-03,\n",
       "       -4.40339595e-02, -1.54527312e-03,  2.01863665e-02, -7.08464757e-02,\n",
       "        6.36801869e-02, -2.09153723e-03,  8.31524432e-02,  7.21339369e-03,\n",
       "        2.37920359e-02,  1.74220949e-02,  9.55977067e-02, -4.11890149e-02,\n",
       "       -9.94085819e-02, -8.59987885e-02,  9.34034958e-03,  2.49316879e-02,\n",
       "       -5.01455646e-03, -5.25104254e-02, -6.74060509e-02, -1.25827473e-02,\n",
       "        7.61722913e-03, -7.54609555e-02, -2.62166541e-02, -1.41828712e-02,\n",
       "        2.98119895e-02,  5.90687469e-02,  8.12269300e-02, -3.19936164e-02,\n",
       "       -3.93526349e-03,  3.00061423e-02, -4.03845198e-02, -6.10585092e-03,\n",
       "       -6.40574284e-03, -1.05303526e-01,  7.60405287e-02,  2.83748116e-02,\n",
       "       -1.57008413e-02, -2.30936264e-03, -5.62178856e-03, -1.85935758e-02,\n",
       "        6.88311756e-02,  3.79976481e-02, -1.80272814e-02,  5.02080563e-03,\n",
       "        8.67679566e-02,  3.99532840e-02, -5.70929516e-03,  1.33005619e-01,\n",
       "       -5.71513437e-02,  4.54723090e-02, -5.52022532e-02,  1.85069330e-02,\n",
       "       -4.27017249e-02, -6.16565347e-02,  3.57586145e-02, -5.63345812e-02,\n",
       "        9.70949419e-03,  4.01470922e-02, -3.05468291e-02, -2.57437360e-02,\n",
       "       -7.65486667e-03, -1.05975419e-02, -6.69883341e-02,  7.31112482e-03,\n",
       "        1.06914863e-01,  8.80488232e-02,  6.23187013e-02, -7.40783243e-03,\n",
       "        1.40179694e-02,  2.81448159e-02,  4.62829210e-02, -3.12438253e-02,\n",
       "        7.09173977e-02, -5.67002362e-03, -2.17621531e-02, -6.89413478e-33,\n",
       "       -4.92959581e-02, -1.63548104e-02,  3.40875750e-03, -1.08784819e-02,\n",
       "       -1.61433977e-03,  2.17502136e-02, -7.77432695e-02,  2.35478822e-02,\n",
       "       -1.24083050e-02,  1.52956486e-01, -8.22076872e-02,  2.39412095e-02,\n",
       "       -2.71553942e-03,  4.19553481e-02, -1.88335795e-02, -7.71632651e-04,\n",
       "        5.97385019e-02,  1.76914353e-02, -2.87791644e-03,  1.97061338e-02,\n",
       "        5.84435789e-03,  1.31355915e-02, -8.27081618e-04, -2.45269446e-04,\n",
       "       -8.57731849e-02,  1.82976350e-02,  3.28735337e-02, -1.40373539e-02,\n",
       "       -3.52643952e-02, -1.39916409e-02, -1.70346443e-02,  1.59124155e-02,\n",
       "       -2.12118663e-02,  2.28096880e-02,  2.56971009e-02, -1.20025657e-01,\n",
       "       -1.44116683e-02,  3.57670821e-02,  3.98525707e-02,  5.24134487e-02,\n",
       "       -1.01145759e-01,  3.65558118e-02,  1.00102380e-01,  1.52618721e-01,\n",
       "        5.95283061e-02,  4.79449667e-02, -1.04325870e-02, -2.05678307e-02,\n",
       "        1.39630539e-02,  1.07720988e-02, -4.33293730e-02,  4.50931042e-02,\n",
       "       -8.28925744e-02, -9.26283225e-02,  2.07380839e-02,  4.03870270e-02,\n",
       "        3.63956504e-02, -2.41007190e-02, -1.55761033e-01, -2.99185677e-03,\n",
       "       -2.11126767e-02, -1.19803473e-01, -3.97913270e-02, -2.58465819e-02],\n",
       "      dtype=float32)"
      ]
     },
     "execution_count": 15,
     "metadata": {},
     "output_type": "execute_result"
    }
   ],
   "source": [
    "v_q"
   ]
  },
  {
   "cell_type": "code",
   "execution_count": 16,
   "id": "ecba8e3b-7f61-402c-8106-62bde9eb1746",
   "metadata": {},
   "outputs": [],
   "source": [
    "def elastic_search_knn(field, vector, course):\n",
    "    knn = {\n",
    "        \"field\": field,\n",
    "        \"query_vector\": vector,\n",
    "        \"k\": 5,\n",
    "        \"num_candidates\": 10000,\n",
    "        \"filter\": {\n",
    "            \"term\": {\n",
    "                \"course\": course\n",
    "            }\n",
    "        }\n",
    "    }\n",
    "\n",
    "    search_query = {\n",
    "        \"knn\": knn,\n",
    "        \"_source\": [\"text\", \"section\", \"question\", \"course\", \"id\"]\n",
    "    }\n",
    "\n",
    "    es_results = es_client.search(\n",
    "        index=index_name,\n",
    "        body=search_query\n",
    "    )\n",
    "    \n",
    "    result_docs = []\n",
    "    \n",
    "    for hit in es_results['hits']['hits']:\n",
    "        result_docs.append(hit['_source'])\n",
    "\n",
    "    return result_docs"
   ]
  },
  {
   "cell_type": "code",
   "execution_count": 17,
   "id": "cc09b90a-a88b-4678-a613-eb68e16136d5",
   "metadata": {},
   "outputs": [],
   "source": [
    "def question_vector_knn(q):\n",
    "    question = q['question']\n",
    "    course = q['course']\n",
    "\n",
    "    v_q = model.encode(question)\n",
    "\n",
    "    return elastic_search_knn('question_vector', v_q, course)"
   ]
  },
  {
   "cell_type": "code",
   "execution_count": 18,
   "id": "163d5e97-e1b7-45e1-ba1e-61fca4fc37a9",
   "metadata": {},
   "outputs": [],
   "source": [
    "import pandas as pd"
   ]
  },
  {
   "cell_type": "code",
   "execution_count": 19,
   "id": "e3da963b-cd17-471b-9cff-7f8c4276b915",
   "metadata": {},
   "outputs": [],
   "source": [
    "df_ground_truth = pd.read_csv('ground-truth-data.csv')"
   ]
  },
  {
   "cell_type": "code",
   "execution_count": 20,
   "id": "d53d3beb-d699-46c8-bc85-953afc4ef48d",
   "metadata": {},
   "outputs": [],
   "source": [
    "ground_truth = df_ground_truth.to_dict(orient='records')"
   ]
  },
  {
   "cell_type": "code",
   "execution_count": 21,
   "id": "0deced29-bae5-4b6c-b2b8-53ce46b4f8ab",
   "metadata": {},
   "outputs": [
    {
     "data": {
      "text/plain": [
       "{'question': 'When does the course begin?',\n",
       " 'course': 'data-engineering-zoomcamp',\n",
       " 'document': 'c02e79ef'}"
      ]
     },
     "execution_count": 21,
     "metadata": {},
     "output_type": "execute_result"
    }
   ],
   "source": [
    "ground_truth[0]"
   ]
  },
  {
   "cell_type": "code",
   "execution_count": 23,
   "id": "8959c9ff-5bbe-4729-8fa3-cdc51ed10f5f",
   "metadata": {},
   "outputs": [],
   "source": [
    "def hit_rate(relevance_total):\n",
    "    cnt = 0\n",
    "\n",
    "    for line in relevance_total:\n",
    "        if True in line:\n",
    "            cnt = cnt + 1\n",
    "\n",
    "    return cnt / len(relevance_total)"
   ]
  },
  {
   "cell_type": "code",
   "execution_count": null,
   "id": "6e2970e2-4481-4378-8e29-4fe30369cd7f",
   "metadata": {},
   "outputs": [],
   "source": []
  },
  {
   "cell_type": "code",
   "execution_count": 24,
   "id": "842255b5-18f2-4102-9689-a5835e0a621c",
   "metadata": {},
   "outputs": [],
   "source": [
    "def mrr(relevance_total):\n",
    "    total_score = 0.0\n",
    "\n",
    "    for line in relevance_total:\n",
    "        for rank in range(len(line)):\n",
    "            if line[rank] == True:\n",
    "                total_score = total_score + 1 / (rank + 1)\n",
    "\n",
    "    return total_score / len(relevance_total)"
   ]
  },
  {
   "cell_type": "code",
   "execution_count": 25,
   "id": "f11baaff-43d9-4b8c-a896-561b86e85743",
   "metadata": {},
   "outputs": [],
   "source": [
    "def evaluate(ground_truth, search_function):\n",
    "    relevance_total = []\n",
    "\n",
    "    for q in tqdm(ground_truth):\n",
    "        doc_id = q['document']\n",
    "        results = search_function(q)\n",
    "        relevance = [d['id'] == doc_id for d in results]\n",
    "        relevance_total.append(relevance)\n",
    "\n",
    "    return {\n",
    "        'hit_rate': hit_rate(relevance_total),\n",
    "        'mrr': mrr(relevance_total),\n",
    "    }"
   ]
  },
  {
   "cell_type": "code",
   "execution_count": 26,
   "id": "f1d3530e-1406-49dd-bba9-914f6a39d7f2",
   "metadata": {},
   "outputs": [
    {
     "name": "stderr",
     "output_type": "stream",
     "text": [
      "100%|██████████| 5088/5088 [01:54<00:00, 44.52it/s]\n"
     ]
    },
    {
     "data": {
      "text/plain": [
       "{'hit_rate': 0.7022405660377359, 'mrr': 0.6054900419287217}"
      ]
     },
     "execution_count": 26,
     "metadata": {},
     "output_type": "execute_result"
    }
   ],
   "source": [
    "evaluate(ground_truth, question_vector_knn)"
   ]
  },
  {
   "cell_type": "markdown",
   "id": "3aa5eb82-27df-4577-a2e2-23971f2fa964",
   "metadata": {},
   "source": [
    "ES text only: 0.7395720769397017, 0.6032418413658963"
   ]
  },
  {
   "cell_type": "code",
   "execution_count": 28,
   "id": "e87f0987-02e9-4e2c-a091-14a75c9ce58d",
   "metadata": {},
   "outputs": [],
   "source": [
    "def text_vector_knn(q):\n",
    "    question = q['question']\n",
    "    course = q['course']\n",
    "\n",
    "    v_q = model.encode(question)\n",
    "\n",
    "    return elastic_search_knn('text_vector', v_q, course)"
   ]
  },
  {
   "cell_type": "code",
   "execution_count": 29,
   "id": "d676bd5e-4abc-4799-bb37-c1a86b3b9872",
   "metadata": {},
   "outputs": [
    {
     "name": "stderr",
     "output_type": "stream",
     "text": [
      "100%|██████████| 5088/5088 [01:46<00:00, 47.98it/s]\n"
     ]
    },
    {
     "data": {
      "text/plain": [
       "{'hit_rate': 0.7535377358490566, 'mrr': 0.6422431865828103}"
      ]
     },
     "execution_count": 29,
     "metadata": {},
     "output_type": "execute_result"
    }
   ],
   "source": [
    "evaluate(ground_truth, text_vector_knn)"
   ]
  },
  {
   "cell_type": "code",
   "execution_count": 30,
   "id": "13a47c3e-036a-4212-912c-a61de0daf6cd",
   "metadata": {},
   "outputs": [
    {
     "name": "stderr",
     "output_type": "stream",
     "text": [
      "100%|██████████| 5088/5088 [01:45<00:00, 48.11it/s]\n"
     ]
    },
    {
     "data": {
      "text/plain": [
       "{'hit_rate': 0.8331367924528302, 'mrr': 0.7487355870020969}"
      ]
     },
     "execution_count": 30,
     "metadata": {},
     "output_type": "execute_result"
    }
   ],
   "source": [
    "def question_text_vector_knn(q):\n",
    "    question = q['question']\n",
    "    course = q['course']\n",
    "\n",
    "    v_q = model.encode(question)\n",
    "\n",
    "    return elastic_search_knn('question_text_vector', v_q, course)\n",
    "\n",
    "evaluate(ground_truth, question_text_vector_knn)"
   ]
  },
  {
   "cell_type": "code",
   "execution_count": 31,
   "id": "20f4d5f5-617d-4e89-8cc1-4acaed270be4",
   "metadata": {},
   "outputs": [],
   "source": [
    "def elastic_search_knn_combined(vector, course):\n",
    "    search_query = {\n",
    "        \"size\": 5,\n",
    "        \"query\": {\n",
    "            \"bool\": {\n",
    "                \"must\": [\n",
    "                    {\n",
    "                        \"script_score\": {\n",
    "                            \"query\": {\n",
    "                                \"term\": {\n",
    "                                    \"course\": course\n",
    "                                }\n",
    "                            },\n",
    "                            \"script\": {\n",
    "                                \"source\": \"\"\"\n",
    "                                    cosineSimilarity(params.query_vector, 'question_vector') + \n",
    "                                    cosineSimilarity(params.query_vector, 'text_vector') + \n",
    "                                    cosineSimilarity(params.query_vector, 'question_text_vector') + \n",
    "                                    1\n",
    "                                \"\"\",\n",
    "                                \"params\": {\n",
    "                                    \"query_vector\": vector\n",
    "                                }\n",
    "                            }\n",
    "                        }\n",
    "                    }\n",
    "                ],\n",
    "                \"filter\": {\n",
    "                    \"term\": {\n",
    "                        \"course\": course\n",
    "                    }\n",
    "                }\n",
    "            }\n",
    "        },\n",
    "        \"_source\": [\"text\", \"section\", \"question\", \"course\", \"id\"]\n",
    "    }\n",
    "\n",
    "    es_results = es_client.search(\n",
    "        index=index_name,\n",
    "        body=search_query\n",
    "    )\n",
    "    \n",
    "    result_docs = []\n",
    "    \n",
    "    for hit in es_results['hits']['hits']:\n",
    "        result_docs.append(hit['_source'])\n",
    "\n",
    "    return result_docs"
   ]
  },
  {
   "cell_type": "code",
   "execution_count": 32,
   "id": "7ba72a59-7d0e-4d61-90c4-008e6341f7dd",
   "metadata": {},
   "outputs": [
    {
     "name": "stderr",
     "output_type": "stream",
     "text": [
      "100%|██████████| 5088/5088 [01:47<00:00, 47.18it/s]\n"
     ]
    },
    {
     "data": {
      "text/plain": [
       "{'hit_rate': 0.8197720125786163, 'mrr': 0.7308045073375267}"
      ]
     },
     "execution_count": 32,
     "metadata": {},
     "output_type": "execute_result"
    }
   ],
   "source": [
    "def vector_combined_knn(q):\n",
    "    question = q['question']\n",
    "    course = q['course']\n",
    "\n",
    "    v_q = model.encode(question)\n",
    "\n",
    "    return elastic_search_knn_combined(v_q, course)\n",
    "\n",
    "evaluate(ground_truth, vector_combined_knn)"
   ]
  },
  {
   "cell_type": "code",
   "execution_count": null,
   "id": "806798ff-431e-46a0-8ecd-edd9b688f8e3",
   "metadata": {},
   "outputs": [],
   "source": []
  }
 ],
 "metadata": {
  "kernelspec": {
   "display_name": "Python 3 (ipykernel)",
   "language": "python",
   "name": "python3"
  },
  "language_info": {
   "codemirror_mode": {
    "name": "ipython",
    "version": 3
   },
   "file_extension": ".py",
   "mimetype": "text/x-python",
   "name": "python",
   "nbconvert_exporter": "python",
   "pygments_lexer": "ipython3",
   "version": "3.10.13"
  }
 },
 "nbformat": 4,
 "nbformat_minor": 5
}
